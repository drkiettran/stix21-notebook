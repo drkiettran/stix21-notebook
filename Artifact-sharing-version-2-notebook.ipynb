{
 "cells": [
  {
   "cell_type": "markdown",
   "metadata": {},
   "source": [
    "# Artifact Sharing Notebook Version #2.\n",
    "# Client of Artifact Sharing Server.\n",
    "This is a client project for the Artifact Sharing project located here `https://github.com/drkiettran/artifact-sharing`."
   ]
  },
  {
   "cell_type": "code",
   "execution_count": 1,
   "metadata": {},
   "outputs": [],
   "source": [
    "import base64\n",
    "import json\n",
    "import http\n",
    "import requests\n",
    "import uuid\n",
    "from Crypto.Cipher import PKCS1_OAEP\n",
    "\n",
    "from Crypto.PublicKey import RSA\n",
    "from Crypto.Cipher import AES\n",
    "from Crypto.Cipher import PKCS1_v1_5\n",
    "\n",
    "from base64 import b64decode, urlsafe_b64decode, b64encode, urlsafe_b64encode\n",
    "from Crypto.Hash import SHA256"
   ]
  },
  {
   "cell_type": "code",
   "execution_count": 2,
   "metadata": {},
   "outputs": [],
   "source": [
    "def new_id(old_id):\n",
    "    new_id = old_id.split('--')[0]\n",
    "    return new_id + '--' + str(uuid.uuid4())\n",
    "\n",
    "'''\n",
    "STIX id can be in these fields: id, created_by_ref, object_marking_refs, ??? Others ???\n",
    "'''\n",
    "def new_stix_object(stix):\n",
    "    content_json = json.loads(stix)\n",
    "    stix_ids = {}\n",
    "    stix_ids[content_json['id']] = new_id(content_json['id'])\n",
    "    \n",
    "    if 'objects' in content_json:\n",
    "        for obj in content_json['objects']:\n",
    "            stix_ids[obj['id']] = new_id(obj['id'])\n",
    "            if 'created_by_ref' in obj:\n",
    "                stix_ids[obj['created_by_ref']] = new_id(obj['created_by_ref'])\n",
    "            if 'object_marking_refs' in obj:\n",
    "                for ref in obj['object_marking_refs']:\n",
    "                    stix_ids[ref] = new_id(ref)\n",
    "    else:\n",
    "        obj = stix\n",
    "        stix_ids[obj['id']] = new_id(obj['id'])\n",
    "        if 'created_by_ref' in obj:\n",
    "            stix_ids[obj['created_by_ref']] = new_id(obj['created_by_ref'])\n",
    "        if 'object_marking_refs' in obj:\n",
    "            for ref in obj['object_marking_refs']:\n",
    "                stix_ids[ref] = new_id(ref)\n",
    "    new_content = json.dumps(content_json, indent=2)\n",
    "    for old_id in stix_ids:\n",
    "        new_content = new_content.replace(old_id, stix_ids[old_id])\n",
    "    return new_content;"
   ]
  },
  {
   "cell_type": "code",
   "execution_count": null,
   "metadata": {},
   "outputs": [],
   "source": []
  }
 ],
 "metadata": {
  "kernelspec": {
   "display_name": "Python 3",
   "language": "python",
   "name": "python3"
  },
  "language_info": {
   "codemirror_mode": {
    "name": "ipython",
    "version": 3
   },
   "file_extension": ".py",
   "mimetype": "text/x-python",
   "name": "python",
   "nbconvert_exporter": "python",
   "pygments_lexer": "ipython3",
   "version": "3.6.9"
  }
 },
 "nbformat": 4,
 "nbformat_minor": 2
}
